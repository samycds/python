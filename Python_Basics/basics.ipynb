{
 "cells": [
  {
   "cell_type": "markdown",
   "id": "51a589cc-524c-4956-bc0a-413bc3666e6b",
   "metadata": {},
   "source": [
    "# Learning Python Basics\n",
    "\n",
    "## Strings"
   ]
  },
  {
   "cell_type": "code",
   "execution_count": 1,
   "id": "3baaae02-6a27-4a1c-875b-eeb537249eca",
   "metadata": {},
   "outputs": [
    {
     "name": "stdout",
     "output_type": "stream",
     "text": [
      "Hello DATA WORLD!!!\n"
     ]
    }
   ],
   "source": [
    "print(\"Hello DATA WORLD!!!\")"
   ]
  },
  {
   "cell_type": "code",
   "execution_count": 5,
   "id": "a3616619-f060-43fc-ac1e-b083075187a6",
   "metadata": {},
   "outputs": [
    {
     "name": "stdout",
     "output_type": "stream",
     "text": [
      "Hello\n",
      "\n",
      "Hello Again\n"
     ]
    }
   ],
   "source": [
    "print(\"Hello\")\n",
    "print() #Imprime una linea en blanco\n",
    "print('Hello Again')"
   ]
  },
  {
   "cell_type": "code",
   "execution_count": 6,
   "id": "8286e57c-4691-4668-a7d5-7c8ca478573e",
   "metadata": {},
   "outputs": [
    {
     "name": "stdout",
     "output_type": "stream",
     "text": [
      "Samantha Camacho\n"
     ]
    }
   ],
   "source": [
    "print('Samantha Camacho')"
   ]
  },
  {
   "cell_type": "code",
   "execution_count": 28,
   "id": "db25524b-b394-43b1-80f8-f2ea39b7bea5",
   "metadata": {},
   "outputs": [
    {
     "name": "stdout",
     "output_type": "stream",
     "text": [
      "Samantha Camacho\n",
      "o\n",
      "Samantha\n",
      "Camacho\n"
     ]
    }
   ],
   "source": [
    "name = 'Samantha Camacho'\n",
    "print(name)\n",
    "print(name[-1])\n",
    "print(name[0:8])\n",
    "print(name[-7:]) "
   ]
  },
  {
   "cell_type": "code",
   "execution_count": 32,
   "id": "9bb0eb54-4eab-47a4-b178-4d6ed73b2cfe",
   "metadata": {},
   "outputs": [
    {
     "name": "stdout",
     "output_type": "stream",
     "text": [
      "Samantha Camacho\n",
      "<class 'str'>\n"
     ]
    }
   ],
   "source": [
    "name='Samantha' \n",
    "lastname='Camacho'\n",
    "\n",
    "fullname= name+\" \"+lastname\n",
    "\n",
    "print(fullname)\n",
    "\n",
    "print(type(fullname))"
   ]
  },
  {
   "cell_type": "code",
   "execution_count": 33,
   "id": "59f6b9bb-7dbb-43ee-a0af-38e8061aa6f8",
   "metadata": {},
   "outputs": [
    {
     "name": "stdout",
     "output_type": "stream",
     "text": [
      "Hello, Samantha!!\n"
     ]
    }
   ],
   "source": [
    "my_string = 'Hello'\n",
    "name = 'Samantha'\n",
    "\n",
    "print(f\"{my_string}, {name}!!\")\n"
   ]
  },
  {
   "cell_type": "markdown",
   "id": "5b86bb6d-0cb6-45e2-a77d-712d02c58a48",
   "metadata": {},
   "source": [
    "## Numbers"
   ]
  },
  {
   "cell_type": "code",
   "execution_count": 37,
   "id": "47838d47-95ae-4f07-a67d-1d6261be15c4",
   "metadata": {},
   "outputs": [
    {
     "name": "stdout",
     "output_type": "stream",
     "text": [
      "2\n",
      "0\n",
      "2\n",
      "1.6666666666666667\n"
     ]
    }
   ],
   "source": [
    "print(1+1)\n",
    "\n",
    "print(1-1)\n",
    "\n",
    "print(2*1)\n",
    "\n",
    "print(5/3)"
   ]
  },
  {
   "cell_type": "code",
   "execution_count": 39,
   "id": "7cab43a0-cdcb-458a-9c92-958d2299da15",
   "metadata": {},
   "outputs": [
    {
     "data": {
      "text/plain": [
       "5.0"
      ]
     },
     "execution_count": 39,
     "metadata": {},
     "output_type": "execute_result"
    }
   ],
   "source": [
    "import math \n",
    "math.sqrt(25)"
   ]
  },
  {
   "cell_type": "code",
   "execution_count": 40,
   "id": "ac5e6e4a-d270-4d01-9658-347fe642b021",
   "metadata": {},
   "outputs": [
    {
     "name": "stdout",
     "output_type": "stream",
     "text": [
      "12.5\n"
     ]
    }
   ],
   "source": [
    "a=10\n",
    "b=15\n",
    "\n",
    "mean = (a+b)/2\n",
    "\n",
    "print(mean)\n"
   ]
  },
  {
   "cell_type": "code",
   "execution_count": 41,
   "id": "dc072031-1194-4bae-ada9-5a1afa650601",
   "metadata": {},
   "outputs": [
    {
     "name": "stdout",
     "output_type": "stream",
     "text": [
      "11\n"
     ]
    }
   ],
   "source": [
    "print(5+3*2)"
   ]
  },
  {
   "cell_type": "code",
   "execution_count": 42,
   "id": "0286bcae-6aee-45cd-b94b-db121dbdc00c",
   "metadata": {},
   "outputs": [
    {
     "name": "stdout",
     "output_type": "stream",
     "text": [
      "5.0\n"
     ]
    }
   ],
   "source": [
    "my_num = 10\n",
    "my_num /=2\n",
    "\n",
    "print(my_num)"
   ]
  },
  {
   "cell_type": "code",
   "execution_count": 43,
   "id": "e11a0c4e-c043-4d48-babc-667728bee765",
   "metadata": {},
   "outputs": [
    {
     "name": "stdout",
     "output_type": "stream",
     "text": [
      "4\n"
     ]
    }
   ],
   "source": [
    "print(round(3.5))"
   ]
  },
  {
   "cell_type": "code",
   "execution_count": 44,
   "id": "17de94ba-b52d-4734-a033-986140c64602",
   "metadata": {},
   "outputs": [
    {
     "name": "stdout",
     "output_type": "stream",
     "text": [
      "8\n"
     ]
    }
   ],
   "source": [
    "my_num = 2\n",
    "print(my_num ** 3)"
   ]
  },
  {
   "cell_type": "markdown",
   "id": "71883493-2aad-4218-8914-fbea98fa8c94",
   "metadata": {},
   "source": [
    "## Data Types & Data Structures"
   ]
  },
  {
   "cell_type": "markdown",
   "id": "454c67d6-c8f9-496d-b4ff-cd68a7e4a24b",
   "metadata": {},
   "source": [
    "### LIST"
   ]
  },
  {
   "cell_type": "code",
   "execution_count": 1,
   "id": "b36cfded-ba8c-4eac-9045-8833df4a5fde",
   "metadata": {},
   "outputs": [
    {
     "data": {
      "text/plain": [
       "[1, 2, 3, 4, 3.5, 5.3, 'Hola', 'a', 'b']"
      ]
     },
     "execution_count": 1,
     "metadata": {},
     "output_type": "execute_result"
    }
   ],
   "source": [
    "my_list = [1,2,3,4, 3.5, 5.3, 'Hola', 'a', 'b']\n",
    "\n",
    "my_list"
   ]
  },
  {
   "cell_type": "code",
   "execution_count": 2,
   "id": "5d24ac68-6036-4da9-8dda-4ba0473fc153",
   "metadata": {},
   "outputs": [
    {
     "data": {
      "text/plain": [
       "9"
      ]
     },
     "execution_count": 2,
     "metadata": {},
     "output_type": "execute_result"
    }
   ],
   "source": [
    "len(my_list)"
   ]
  },
  {
   "cell_type": "code",
   "execution_count": 3,
   "id": "9445ce30-d713-4b88-81ec-7efcf3c64db3",
   "metadata": {},
   "outputs": [],
   "source": [
    "my_list.append(True)"
   ]
  },
  {
   "cell_type": "code",
   "execution_count": 4,
   "id": "43252b0b-8b63-4a53-8185-30968b057806",
   "metadata": {},
   "outputs": [
    {
     "data": {
      "text/plain": [
       "[1, 2, 3, 4, 3.5, 5.3, 'Hola', 'a', 'b', True]"
      ]
     },
     "execution_count": 4,
     "metadata": {},
     "output_type": "execute_result"
    }
   ],
   "source": [
    "my_list"
   ]
  },
  {
   "cell_type": "code",
   "execution_count": 5,
   "id": "9e3fcb25-7cda-488c-ba69-5f0414c2cd2a",
   "metadata": {},
   "outputs": [
    {
     "data": {
      "text/plain": [
       "[1, 2, 3, 4, 5]"
      ]
     },
     "execution_count": 5,
     "metadata": {},
     "output_type": "execute_result"
    }
   ],
   "source": [
    "l = [1,2,3,4,5]\n",
    "l"
   ]
  },
  {
   "cell_type": "code",
   "execution_count": 8,
   "id": "d75149a9-dc81-436a-9e83-d5fef055aada",
   "metadata": {},
   "outputs": [
    {
     "data": {
      "text/plain": [
       "[1, 2, 3, 4, 5, [6, 7, 8, 9], [6, 7, 8, 9]]"
      ]
     },
     "execution_count": 8,
     "metadata": {},
     "output_type": "execute_result"
    }
   ],
   "source": [
    "l.append([6,7,8,9])\n",
    "l"
   ]
  },
  {
   "cell_type": "code",
   "execution_count": 9,
   "id": "f8ecd4ad-b58d-4b57-b2fc-7b1029eadd13",
   "metadata": {},
   "outputs": [
    {
     "data": {
      "text/plain": [
       "[1, 2, 3, 4, 5, [6, 7, 8, 9], [6, 7, 8, 9], 6, 7, 8, 9]"
      ]
     },
     "execution_count": 9,
     "metadata": {},
     "output_type": "execute_result"
    }
   ],
   "source": [
    "l.extend([6,7,8,9])\n",
    "l"
   ]
  },
  {
   "cell_type": "code",
   "execution_count": 12,
   "id": "b8e33fac-8ee9-4ca6-aca1-c6816e29cc02",
   "metadata": {},
   "outputs": [
    {
     "name": "stdout",
     "output_type": "stream",
     "text": [
      "[6, 7, 8, 9]\n"
     ]
    }
   ],
   "source": [
    "print(l[6])"
   ]
  },
  {
   "cell_type": "code",
   "execution_count": 15,
   "id": "9b490838-c612-4298-bfcc-d93aea8c3ad3",
   "metadata": {},
   "outputs": [
    {
     "data": {
      "text/plain": [
       "[1, 2, 3, 4, 5, [6, 7, 8, 9], 6, 7, 8, 9]"
      ]
     },
     "execution_count": 15,
     "metadata": {},
     "output_type": "execute_result"
    }
   ],
   "source": [
    "l.remove(l[6])\n",
    "l"
   ]
  },
  {
   "cell_type": "code",
   "execution_count": 16,
   "id": "ed119e3b-90c4-4d2c-8899-0ad436cc7f9f",
   "metadata": {},
   "outputs": [
    {
     "data": {
      "text/plain": [
       "[1, 2, 3, 4, 5, 6, 7, 8, 9]"
      ]
     },
     "execution_count": 16,
     "metadata": {},
     "output_type": "execute_result"
    }
   ],
   "source": [
    "l.remove(l[5])\n",
    "l"
   ]
  },
  {
   "cell_type": "markdown",
   "id": "c31f557b-b3fa-42a6-98eb-511b00876fb6",
   "metadata": {},
   "source": [
    "### Dictionaries"
   ]
  },
  {
   "cell_type": "code",
   "execution_count": 17,
   "id": "9a333118-c313-4c15-8e10-c52afad37386",
   "metadata": {},
   "outputs": [
    {
     "data": {
      "text/plain": [
       "{'name': 'Samantha', 'surname': 'Camacho', 'age': 35}"
      ]
     },
     "execution_count": 17,
     "metadata": {},
     "output_type": "execute_result"
    }
   ],
   "source": [
    "dict = {'name':'Samantha','surname':'Camacho','age':35}\n",
    "dict"
   ]
  },
  {
   "cell_type": "code",
   "execution_count": 18,
   "id": "4c77d978-1728-4cf3-a54f-5d6973c13e63",
   "metadata": {},
   "outputs": [
    {
     "data": {
      "text/plain": [
       "'Samantha'"
      ]
     },
     "execution_count": 18,
     "metadata": {},
     "output_type": "execute_result"
    }
   ],
   "source": [
    "dict['name']"
   ]
  },
  {
   "cell_type": "markdown",
   "id": "936ea9f0-0786-4727-b7ac-e869b20f6248",
   "metadata": {},
   "source": [
    "dict['name'] = 'Rafael'\n",
    "dict"
   ]
  },
  {
   "cell_type": "code",
   "execution_count": 20,
   "id": "b5c14e66-1d74-4e60-a204-dd6059ac413e",
   "metadata": {},
   "outputs": [
    {
     "data": {
      "text/plain": [
       "{'name': 'Samantha', 'surname': 'Camacho', 'age': 35}"
      ]
     },
     "execution_count": 20,
     "metadata": {},
     "output_type": "execute_result"
    }
   ],
   "source": [
    "dict['name'] = 'Samantha'\n",
    "dict"
   ]
  },
  {
   "cell_type": "markdown",
   "id": "b59a44e2-1464-454a-925a-672e54abeb39",
   "metadata": {},
   "source": [
    "### Sets"
   ]
  },
  {
   "cell_type": "code",
   "execution_count": 21,
   "id": "a36d908e-de6d-4a9b-bfbb-0c82b9c1fe47",
   "metadata": {},
   "outputs": [
    {
     "data": {
      "text/plain": [
       "{1, 2, 3, 4, 5, 6, 7, 8}"
      ]
     },
     "execution_count": 21,
     "metadata": {},
     "output_type": "execute_result"
    }
   ],
   "source": [
    "x = set()\n",
    "x\n",
    "l = [1,1,2,2,2,3,2,1,4,5,6,7,7,7,6,8]\n",
    "\n",
    "x = set(l)\n",
    "\n",
    "x"
   ]
  },
  {
   "cell_type": "markdown",
   "id": "d0983a09-7280-4d28-98da-e5e3d52e9a0d",
   "metadata": {},
   "source": [
    "### Tuple"
   ]
  },
  {
   "cell_type": "code",
   "execution_count": 25,
   "id": "9c7b7d95-7934-4a9f-bff6-40eb66ddca45",
   "metadata": {},
   "outputs": [
    {
     "name": "stdout",
     "output_type": "stream",
     "text": [
      "('apple', 'banana', 'cherry')\n",
      "<class 'tuple'>\n"
     ]
    }
   ],
   "source": [
    "# A tuple is a collection which is ordered and unchangeable.\n",
    "\n",
    "thistuple = (\"apple\", \"banana\", \"cherry\")\n",
    "print(thistuple)\n",
    "print(type(thistuple))"
   ]
  },
  {
   "cell_type": "markdown",
   "id": "f6b1b5da-904f-42af-b463-d00f04260b37",
   "metadata": {},
   "source": [
    "### Exercises"
   ]
  },
  {
   "cell_type": "code",
   "execution_count": 26,
   "id": "d625a5ff-7b2c-4ca7-a2d9-5c2c76f6092a",
   "metadata": {},
   "outputs": [
    {
     "name": "stdout",
     "output_type": "stream",
     "text": [
      "3\n"
     ]
    }
   ],
   "source": [
    "my_list = [1,2,3,4,5]\n",
    "print(my_list[2])"
   ]
  },
  {
   "cell_type": "code",
   "execution_count": 28,
   "id": "a4f50cc6-f1e5-4810-a0ca-d8d7967f522e",
   "metadata": {},
   "outputs": [
    {
     "name": "stdout",
     "output_type": "stream",
     "text": [
      "<class 'tuple'>\n"
     ]
    }
   ],
   "source": [
    "my_tuple = (\"apple\", \"banana\", \"cherry\")\n",
    "print(type(my_tuple))"
   ]
  },
  {
   "cell_type": "code",
   "execution_count": 29,
   "id": "3b8fa9ef-9b54-498f-aca7-ae848680252f",
   "metadata": {},
   "outputs": [
    {
     "name": "stdout",
     "output_type": "stream",
     "text": [
      "{1, 2, 3, 4, 5, 6}\n"
     ]
    }
   ],
   "source": [
    "my_set = {1,2,3,4,5}\n",
    "my_set.add(6)\n",
    "print(my_set)"
   ]
  },
  {
   "cell_type": "code",
   "execution_count": 30,
   "id": "695c285f-7a78-4a70-9c5f-1bbcd2c72a67",
   "metadata": {},
   "outputs": [
    {
     "name": "stdout",
     "output_type": "stream",
     "text": [
      "New York\n"
     ]
    }
   ],
   "source": [
    "my_dict = {\"name\": \"John\", \"age\":30, \"city\":\"New York\"}\n",
    "print(my_dict[\"city\"])"
   ]
  },
  {
   "cell_type": "code",
   "execution_count": 31,
   "id": "a38363fe-1ad4-4e30-a320-f78456489942",
   "metadata": {},
   "outputs": [
    {
     "name": "stdout",
     "output_type": "stream",
     "text": [
      "[1, 2, 4, 5]\n"
     ]
    }
   ],
   "source": [
    "my_list = [1,2,3,4,5]\n",
    "my_list.remove(3)\n",
    "print(my_list)"
   ]
  },
  {
   "cell_type": "code",
   "execution_count": 34,
   "id": "9b21f65e-5a52-4627-9c5b-003387c9e717",
   "metadata": {},
   "outputs": [
    {
     "name": "stdout",
     "output_type": "stream",
     "text": [
      "name\n",
      "age\n",
      "city\n"
     ]
    }
   ],
   "source": [
    "my_dict = {\"name\": \"John\", \"age\":30, \"city\":\"New York\"}\n",
    "for x in my_dict:\n",
    "    print(x)"
   ]
  },
  {
   "cell_type": "markdown",
   "id": "985a1b93-0ccc-4450-8623-c3c860e78ac8",
   "metadata": {},
   "source": [
    "## Conditional Statements & LOOPS"
   ]
  },
  {
   "cell_type": "markdown",
   "id": "f5af0205-1d0e-44cf-ba20-32ca5e0f2c19",
   "metadata": {},
   "source": [
    "* Conditional Statements (IF..ELSE)\n",
    "* Looping (FOR & WHILE)\n",
    "* Comprehensions"
   ]
  },
  {
   "cell_type": "code",
   "execution_count": 35,
   "id": "088f5eac-107a-415d-af08-1798c1f322bf",
   "metadata": {},
   "outputs": [
    {
     "name": "stdout",
     "output_type": "stream",
     "text": [
      "100 is greater than 30\n"
     ]
    }
   ],
   "source": [
    "a = 100\n",
    "b = 30\n",
    "\n",
    "if a > b:\n",
    "    print(f\"{a} is greater than {b}\")\n",
    "else:\n",
    "    print(f\"{b} is greater than {a}\")"
   ]
  },
  {
   "cell_type": "code",
   "execution_count": 39,
   "id": "e7f0a364-4bb3-44f0-8050-c0fbd90153f3",
   "metadata": {},
   "outputs": [
    {
     "name": "stdout",
     "output_type": "stream",
     "text": [
      "100 is equal to 100\n"
     ]
    }
   ],
   "source": [
    "a = 100\n",
    "b = 100\n",
    "\n",
    "if a > b:\n",
    "    print(f\"{a} is greater than {b}\")\n",
    "elif b > a:\n",
    "    print(f\"{b} is greater than {a}\")\n",
    "else:\n",
    "    print(f\"{a} is equal to {b}\")\n"
   ]
  },
  {
   "cell_type": "code",
   "execution_count": 40,
   "id": "1489c22b-0535-4614-bcf7-a38f161a0bed",
   "metadata": {},
   "outputs": [
    {
     "name": "stdout",
     "output_type": "stream",
     "text": [
      "2\n",
      "4\n",
      "5\n",
      "6\n",
      "8\n",
      "7\n",
      "9\n",
      "10\n"
     ]
    }
   ],
   "source": [
    "list_1 = [2,4,5,6,8,7,9,10]\n",
    "for x in list_1:\n",
    "    print(x)"
   ]
  },
  {
   "cell_type": "code",
   "execution_count": 42,
   "id": "3eb585a3-a114-4174-8b42-44978be2b8d4",
   "metadata": {},
   "outputs": [
    {
     "name": "stdout",
     "output_type": "stream",
     "text": [
      "User Name: Sam\n",
      "User Name: Rafa\n",
      "User Name: Luca\n",
      "User Name: Ana\n",
      "User Name: Pablo\n"
     ]
    }
   ],
   "source": [
    "users = ['Sam','Rafa','Luca','Ana','Pablo']\n",
    "\n",
    "for user in users:\n",
    "    print(f'User Name: {user}')"
   ]
  },
  {
   "cell_type": "code",
   "execution_count": 43,
   "id": "48dbf001-4fd9-4256-a6d2-7bb11cbe0c90",
   "metadata": {},
   "outputs": [
    {
     "name": "stdout",
     "output_type": "stream",
     "text": [
      "x is currently:  11  x is still less than 10, adding 1 to x\n"
     ]
    }
   ],
   "source": [
    "x = 11\n",
    "\n",
    "while x > 10:\n",
    "    print ('x is currently: ',x,end=' ') #end=' ' to put print below statement on the same line after thsi statement\n",
    "    print (' x is still less than 10, adding 1 to x')\n",
    "    x = x - 1 # this adds 1 to x "
   ]
  },
  {
   "cell_type": "code",
   "execution_count": 44,
   "id": "eb7cc370-4991-48a0-b760-1f84bbf8d119",
   "metadata": {},
   "outputs": [
    {
     "name": "stdout",
     "output_type": "stream",
     "text": [
      "1\n",
      "2\n",
      "3\n",
      "4\n",
      "5\n"
     ]
    }
   ],
   "source": [
    "my_list = [1,2,3,4,5]\n",
    "for x in my_list:\n",
    "    print(x)"
   ]
  },
  {
   "cell_type": "code",
   "execution_count": 45,
   "id": "03da1fdd-4de6-46b9-872a-a33b70889140",
   "metadata": {},
   "outputs": [
    {
     "name": "stdout",
     "output_type": "stream",
     "text": [
      "0\n",
      "1\n",
      "2\n",
      "3\n",
      "4\n"
     ]
    }
   ],
   "source": [
    "i=0\n",
    "while i < 5:\n",
    "    print(i)\n",
    "    i+=1"
   ]
  },
  {
   "cell_type": "code",
   "execution_count": 47,
   "id": "1b9c67d9-de17-4c52-a49f-84296fc45a6d",
   "metadata": {},
   "outputs": [
    {
     "name": "stdout",
     "output_type": "stream",
     "text": [
      "x is less than or equal to y\n"
     ]
    }
   ],
   "source": [
    "x = 5\n",
    "y = 10\n",
    "if x > y:\n",
    "    print(\"x is greater than y\")\n",
    "else:\n",
    "    print(\"x is less than or equal to y\")"
   ]
  },
  {
   "cell_type": "code",
   "execution_count": 48,
   "id": "2f300ae6-ba8b-4c07-a046-35a97fc85624",
   "metadata": {},
   "outputs": [
    {
     "name": "stdout",
     "output_type": "stream",
     "text": [
      "This is your first time voting!!\n"
     ]
    }
   ],
   "source": [
    "age = 18\n",
    "if age < 18:\n",
    "    print(\"You are not old enough to vote.\")\n",
    "elif age == 18:\n",
    "    print(\"This is your first time voting!!\")\n",
    "else:\n",
    "    print(\"You are old enough to vote.\")"
   ]
  },
  {
   "cell_type": "markdown",
   "id": "81a49c48-d89d-4ac8-9c0f-cc449464b22d",
   "metadata": {},
   "source": [
    "## Modules "
   ]
  },
  {
   "cell_type": "code",
   "execution_count": 49,
   "id": "55d24aab-7c24-46e9-8f60-79b8576d0b78",
   "metadata": {},
   "outputs": [
    {
     "data": {
      "text/plain": [
       "4.0"
      ]
     },
     "execution_count": 49,
     "metadata": {},
     "output_type": "execute_result"
    }
   ],
   "source": [
    "import math\n",
    "\n",
    "math.pow(2,2)"
   ]
  },
  {
   "cell_type": "code",
   "execution_count": 51,
   "id": "f9c408e8-3b16-4a98-85f9-39caf39716a2",
   "metadata": {},
   "outputs": [
    {
     "data": {
      "text/plain": [
       "1.7320508075688772"
      ]
     },
     "execution_count": 51,
     "metadata": {},
     "output_type": "execute_result"
    }
   ],
   "source": [
    "a = 3\n",
    "math.sqrt(3)"
   ]
  },
  {
   "cell_type": "code",
   "execution_count": 52,
   "id": "e9734150-5cec-4e7e-9f1b-19b30b087838",
   "metadata": {},
   "outputs": [
    {
     "data": {
      "text/plain": [
       "9.0"
      ]
     },
     "execution_count": 52,
     "metadata": {},
     "output_type": "execute_result"
    }
   ],
   "source": [
    "math.pow(a,2)"
   ]
  },
  {
   "cell_type": "markdown",
   "id": "adc4731d-4e5e-442c-9ae7-25139ca46882",
   "metadata": {},
   "source": [
    "## Exception Handling "
   ]
  },
  {
   "cell_type": "code",
   "execution_count": 1,
   "id": "5f38a000-04dc-4836-827d-7234e271554f",
   "metadata": {},
   "outputs": [
    {
     "name": "stdout",
     "output_type": "stream",
     "text": [
      "[0, 1, 2, 3, 4]\n"
     ]
    }
   ],
   "source": [
    "my_list = [x for x in range(5)]\n",
    "print(my_list)"
   ]
  },
  {
   "cell_type": "code",
   "execution_count": 3,
   "id": "8112f27a-d158-4db4-b91e-b07945c4c912",
   "metadata": {},
   "outputs": [
    {
     "name": "stdout",
     "output_type": "stream",
     "text": [
      "[0, 1, 4]\n"
     ]
    }
   ],
   "source": [
    "my_list = [x**2 for x in range(3)]\n",
    "print(my_list)"
   ]
  },
  {
   "cell_type": "code",
   "execution_count": 4,
   "id": "a7583fc7-b02d-413e-9839-9aa75d2ad274",
   "metadata": {},
   "outputs": [
    {
     "name": "stdout",
     "output_type": "stream",
     "text": [
      "An error occurred\n"
     ]
    }
   ],
   "source": [
    "try:\n",
    "    x = 10 / 0\n",
    "except:\n",
    "    print(\"An error occurred\")"
   ]
  },
  {
   "cell_type": "code",
   "execution_count": 5,
   "id": "7e5eb945-4bae-4495-90fa-b04d44f66f47",
   "metadata": {},
   "outputs": [
    {
     "name": "stdout",
     "output_type": "stream",
     "text": [
      "You cannot divide by zero\n"
     ]
    }
   ],
   "source": [
    "try:\n",
    "    x = 10 / 0\n",
    "except ZeroDivisionError:\n",
    "    print(\"You cannot divide by zero\")"
   ]
  },
  {
   "cell_type": "code",
   "execution_count": 6,
   "id": "62ae73d3-24ad-4f25-9951-41d5c58c24cd",
   "metadata": {},
   "outputs": [
    {
     "name": "stdout",
     "output_type": "stream",
     "text": [
      "The key 'orange' does not exist in the dictionary\n"
     ]
    }
   ],
   "source": [
    "my_dict = {\"apple\": 1, \"banana\":2, \"cherry\":3}\n",
    "try:\n",
    "    print(my_dict[\"orange\"])\n",
    "except KeyError:\n",
    "    print(\"The key 'orange' does not exist in the dictionary\")"
   ]
  },
  {
   "cell_type": "code",
   "execution_count": null,
   "id": "f5e7aea8-f14e-4e9b-8b79-4339974d8a28",
   "metadata": {},
   "outputs": [],
   "source": []
  }
 ],
 "metadata": {
  "kernelspec": {
   "display_name": "Python 3 (ipykernel)",
   "language": "python",
   "name": "python3"
  },
  "language_info": {
   "codemirror_mode": {
    "name": "ipython",
    "version": 3
   },
   "file_extension": ".py",
   "mimetype": "text/x-python",
   "name": "python",
   "nbconvert_exporter": "python",
   "pygments_lexer": "ipython3",
   "version": "3.11.4"
  }
 },
 "nbformat": 4,
 "nbformat_minor": 5
}
