{
 "cells": [
  {
   "cell_type": "markdown",
   "id": "51a589cc-524c-4956-bc0a-413bc3666e6b",
   "metadata": {},
   "source": [
    "# Learning Python Basics\n",
    "\n",
    "## Strings"
   ]
  },
  {
   "cell_type": "code",
   "execution_count": 1,
   "id": "3baaae02-6a27-4a1c-875b-eeb537249eca",
   "metadata": {},
   "outputs": [
    {
     "name": "stdout",
     "output_type": "stream",
     "text": [
      "Hello DATA WORLD!!!\n"
     ]
    }
   ],
   "source": [
    "print(\"Hello DATA WORLD!!!\")"
   ]
  },
  {
   "cell_type": "code",
   "execution_count": 5,
   "id": "a3616619-f060-43fc-ac1e-b083075187a6",
   "metadata": {},
   "outputs": [
    {
     "name": "stdout",
     "output_type": "stream",
     "text": [
      "Hello\n",
      "\n",
      "Hello Again\n"
     ]
    }
   ],
   "source": [
    "print(\"Hello\")\n",
    "print() #Imprime una linea en blanco\n",
    "print('Hello Again')"
   ]
  },
  {
   "cell_type": "code",
   "execution_count": 6,
   "id": "8286e57c-4691-4668-a7d5-7c8ca478573e",
   "metadata": {},
   "outputs": [
    {
     "name": "stdout",
     "output_type": "stream",
     "text": [
      "Samantha Camacho\n"
     ]
    }
   ],
   "source": [
    "print('Samantha Camacho')"
   ]
  },
  {
   "cell_type": "code",
   "execution_count": 28,
   "id": "db25524b-b394-43b1-80f8-f2ea39b7bea5",
   "metadata": {},
   "outputs": [
    {
     "name": "stdout",
     "output_type": "stream",
     "text": [
      "Samantha Camacho\n",
      "o\n",
      "Samantha\n",
      "Camacho\n"
     ]
    }
   ],
   "source": [
    "name = 'Samantha Camacho'\n",
    "print(name)\n",
    "print(name[-1])\n",
    "print(name[0:8])\n",
    "print(name[-7:]) "
   ]
  },
  {
   "cell_type": "code",
   "execution_count": 32,
   "id": "9bb0eb54-4eab-47a4-b178-4d6ed73b2cfe",
   "metadata": {},
   "outputs": [
    {
     "name": "stdout",
     "output_type": "stream",
     "text": [
      "Samantha Camacho\n",
      "<class 'str'>\n"
     ]
    }
   ],
   "source": [
    "name='Samantha' \n",
    "lastname='Camacho'\n",
    "\n",
    "fullname= name+\" \"+lastname\n",
    "\n",
    "print(fullname)\n",
    "\n",
    "print(type(fullname))"
   ]
  },
  {
   "cell_type": "code",
   "execution_count": 33,
   "id": "59f6b9bb-7dbb-43ee-a0af-38e8061aa6f8",
   "metadata": {},
   "outputs": [
    {
     "name": "stdout",
     "output_type": "stream",
     "text": [
      "Hello, Samantha!!\n"
     ]
    }
   ],
   "source": [
    "my_string = 'Hello'\n",
    "name = 'Samantha'\n",
    "\n",
    "print(f\"{my_string}, {name}!!\")\n"
   ]
  },
  {
   "cell_type": "markdown",
   "id": "5b86bb6d-0cb6-45e2-a77d-712d02c58a48",
   "metadata": {},
   "source": [
    "## Numbers"
   ]
  },
  {
   "cell_type": "code",
   "execution_count": 37,
   "id": "47838d47-95ae-4f07-a67d-1d6261be15c4",
   "metadata": {},
   "outputs": [
    {
     "name": "stdout",
     "output_type": "stream",
     "text": [
      "2\n",
      "0\n",
      "2\n",
      "1.6666666666666667\n"
     ]
    }
   ],
   "source": [
    "print(1+1)\n",
    "\n",
    "print(1-1)\n",
    "\n",
    "print(2*1)\n",
    "\n",
    "print(5/3)"
   ]
  },
  {
   "cell_type": "code",
   "execution_count": 39,
   "id": "7cab43a0-cdcb-458a-9c92-958d2299da15",
   "metadata": {},
   "outputs": [
    {
     "data": {
      "text/plain": [
       "5.0"
      ]
     },
     "execution_count": 39,
     "metadata": {},
     "output_type": "execute_result"
    }
   ],
   "source": [
    "import math \n",
    "math.sqrt(25)"
   ]
  },
  {
   "cell_type": "code",
   "execution_count": 40,
   "id": "ac5e6e4a-d270-4d01-9658-347fe642b021",
   "metadata": {},
   "outputs": [
    {
     "name": "stdout",
     "output_type": "stream",
     "text": [
      "12.5\n"
     ]
    }
   ],
   "source": [
    "a=10\n",
    "b=15\n",
    "\n",
    "mean = (a+b)/2\n",
    "\n",
    "print(mean)\n"
   ]
  },
  {
   "cell_type": "code",
   "execution_count": 41,
   "id": "dc072031-1194-4bae-ada9-5a1afa650601",
   "metadata": {},
   "outputs": [
    {
     "name": "stdout",
     "output_type": "stream",
     "text": [
      "11\n"
     ]
    }
   ],
   "source": [
    "print(5+3*2)"
   ]
  },
  {
   "cell_type": "code",
   "execution_count": 42,
   "id": "0286bcae-6aee-45cd-b94b-db121dbdc00c",
   "metadata": {},
   "outputs": [
    {
     "name": "stdout",
     "output_type": "stream",
     "text": [
      "5.0\n"
     ]
    }
   ],
   "source": [
    "my_num = 10\n",
    "my_num /=2\n",
    "\n",
    "print(my_num)"
   ]
  },
  {
   "cell_type": "code",
   "execution_count": 43,
   "id": "e11a0c4e-c043-4d48-babc-667728bee765",
   "metadata": {},
   "outputs": [
    {
     "name": "stdout",
     "output_type": "stream",
     "text": [
      "4\n"
     ]
    }
   ],
   "source": [
    "print(round(3.5))"
   ]
  },
  {
   "cell_type": "code",
   "execution_count": 44,
   "id": "17de94ba-b52d-4734-a033-986140c64602",
   "metadata": {},
   "outputs": [
    {
     "name": "stdout",
     "output_type": "stream",
     "text": [
      "8\n"
     ]
    }
   ],
   "source": [
    "my_num = 2\n",
    "print(my_num ** 3)"
   ]
  },
  {
   "cell_type": "markdown",
   "id": "71883493-2aad-4218-8914-fbea98fa8c94",
   "metadata": {},
   "source": [
    "## Data Types & Data Structures"
   ]
  },
  {
   "cell_type": "code",
   "execution_count": null,
   "id": "3c5d9b83-ba27-40af-bdd7-dd08832ce08c",
   "metadata": {},
   "outputs": [],
   "source": []
  }
 ],
 "metadata": {
  "kernelspec": {
   "display_name": "Python 3 (ipykernel)",
   "language": "python",
   "name": "python3"
  },
  "language_info": {
   "codemirror_mode": {
    "name": "ipython",
    "version": 3
   },
   "file_extension": ".py",
   "mimetype": "text/x-python",
   "name": "python",
   "nbconvert_exporter": "python",
   "pygments_lexer": "ipython3",
   "version": "3.11.4"
  }
 },
 "nbformat": 4,
 "nbformat_minor": 5
}
